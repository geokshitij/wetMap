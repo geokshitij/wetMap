{
 "cells": [
  {
   "cell_type": "code",
   "execution_count": 2,
   "id": "6e6ccd43-0b29-4edc-a2c8-d9de6363df75",
   "metadata": {},
   "outputs": [
    {
     "name": "stdout",
     "output_type": "stream",
     "text": [
      "Downloaded: AL_shapefile_wetlands.zip\n",
      "Downloaded: AK_shapefile_wetlands.zip\n",
      "Downloaded: AZ_shapefile_wetlands.zip\n",
      "Downloaded: AR_shapefile_wetlands.zip\n",
      "Downloaded: CA_shapefile_wetlands.zip\n",
      "Downloaded: CO_shapefile_wetlands.zip\n",
      "Downloaded: CT_shapefile_wetlands.zip\n",
      "Downloaded: DE_shapefile_wetlands.zip\n",
      "Downloaded: FL_shapefile_wetlands.zip\n",
      "Downloaded: GA_shapefile_wetlands.zip\n",
      "Downloaded: HI_shapefile_wetlands.zip\n",
      "Downloaded: ID_shapefile_wetlands.zip\n",
      "Downloaded: IL_shapefile_wetlands.zip\n",
      "Downloaded: IN_shapefile_wetlands.zip\n",
      "Downloaded: IA_shapefile_wetlands.zip\n",
      "Downloaded: KS_shapefile_wetlands.zip\n",
      "Downloaded: KY_shapefile_wetlands.zip\n",
      "Downloaded: LA_shapefile_wetlands.zip\n",
      "Downloaded: ME_shapefile_wetlands.zip\n",
      "Downloaded: MD_shapefile_wetlands.zip\n",
      "Downloaded: MA_shapefile_wetlands.zip\n",
      "Downloaded: MI_shapefile_wetlands.zip\n",
      "Downloaded: MN_shapefile_wetlands.zip\n",
      "Downloaded: MS_shapefile_wetlands.zip\n",
      "Downloaded: MO_shapefile_wetlands.zip\n",
      "Downloaded: MT_shapefile_wetlands.zip\n",
      "Downloaded: NE_shapefile_wetlands.zip\n",
      "Downloaded: NV_shapefile_wetlands.zip\n",
      "Downloaded: NH_shapefile_wetlands.zip\n",
      "Downloaded: NJ_shapefile_wetlands.zip\n",
      "Downloaded: NM_shapefile_wetlands.zip\n",
      "Downloaded: NY_shapefile_wetlands.zip\n",
      "Downloaded: NC_shapefile_wetlands.zip\n",
      "Downloaded: ND_shapefile_wetlands.zip\n",
      "Downloaded: OH_shapefile_wetlands.zip\n",
      "Downloaded: OK_shapefile_wetlands.zip\n",
      "Downloaded: OR_shapefile_wetlands.zip\n",
      "Downloaded: PA_shapefile_wetlands.zip\n",
      "Downloaded: RI_shapefile_wetlands.zip\n",
      "Downloaded: SC_shapefile_wetlands.zip\n",
      "Downloaded: SD_shapefile_wetlands.zip\n",
      "Downloaded: TN_shapefile_wetlands.zip\n",
      "Downloaded: TX_shapefile_wetlands.zip\n",
      "Downloaded: UT_shapefile_wetlands.zip\n",
      "Downloaded: VT_shapefile_wetlands.zip\n",
      "Downloaded: VA_shapefile_wetlands.zip\n",
      "Downloaded: WA_shapefile_wetlands.zip\n",
      "Downloaded: WV_shapefile_wetlands.zip\n",
      "Downloaded: WI_shapefile_wetlands.zip\n",
      "Downloaded: WY_shapefile_wetlands.zip\n"
     ]
    }
   ],
   "source": [
    "import requests\n",
    "\n",
    "# List of state abbreviations\n",
    "states = [\"AL\", \"AK\", \"AZ\", \"AR\", \"CA\", \"CO\", \"CT\", \"DE\", \"FL\", \"GA\",\n",
    "          \"HI\", \"ID\", \"IL\", \"IN\", \"IA\", \"KS\", \"KY\", \"LA\", \"ME\", \"MD\",\n",
    "          \"MA\", \"MI\", \"MN\", \"MS\", \"MO\", \"MT\", \"NE\", \"NV\", \"NH\", \"NJ\",\n",
    "          \"NM\", \"NY\", \"NC\", \"ND\", \"OH\", \"OK\", \"OR\", \"PA\", \"RI\", \"SC\",\n",
    "          \"SD\", \"TN\", \"TX\", \"UT\", \"VT\", \"VA\", \"WA\", \"WV\", \"WI\", \"WY\"]\n",
    "\n",
    "base_url = \"https://documentst.ecosphere.fws.gov/wetlands/data/State-Downloads/{}_shapefile_wetlands.zip\"\n",
    "\n",
    "for state in states:\n",
    "    url = base_url.format(state)\n",
    "    response = requests.get(url)\n",
    "\n",
    "    # Check if the request was successful\n",
    "    if response.status_code == 200:\n",
    "        file_name = '{}_shapefile_wetlands.zip'.format(state)\n",
    "        with open(file_name, 'wb') as file:\n",
    "            file.write(response.content)\n",
    "        print('Downloaded:', file_name)\n",
    "    else:\n",
    "        print('Failed to download data for', state)\n"
   ]
  },
  {
   "cell_type": "code",
   "execution_count": null,
   "id": "94d4009e-1ef0-48db-94c3-f29826ac0d00",
   "metadata": {},
   "outputs": [],
   "source": []
  }
 ],
 "metadata": {
  "kernelspec": {
   "display_name": "Python 3 (ipykernel)",
   "language": "python",
   "name": "python3"
  },
  "language_info": {
   "codemirror_mode": {
    "name": "ipython",
    "version": 3
   },
   "file_extension": ".py",
   "mimetype": "text/x-python",
   "name": "python",
   "nbconvert_exporter": "python",
   "pygments_lexer": "ipython3",
   "version": "3.11.6"
  }
 },
 "nbformat": 4,
 "nbformat_minor": 5
}
